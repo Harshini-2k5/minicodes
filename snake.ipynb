{
  "nbformat": 4,
  "nbformat_minor": 0,
  "metadata": {
    "colab": {
      "provenance": [],
      "authorship_tag": "ABX9TyPspZNFKPLnypsB7iABha6a",
      "include_colab_link": true
    },
    "kernelspec": {
      "name": "python3",
      "display_name": "Python 3"
    },
    "language_info": {
      "name": "python"
    }
  },
  "cells": [
    {
      "cell_type": "markdown",
      "metadata": {
        "id": "view-in-github",
        "colab_type": "text"
      },
      "source": [
        "<a href=\"https://colab.research.google.com/github/Harshini-2k5/minicodes/blob/main/snake.ipynb\" target=\"_parent\"><img src=\"https://colab.research.google.com/assets/colab-badge.svg\" alt=\"Open In Colab\"/></a>"
      ]
    },
    {
      "cell_type": "code",
      "execution_count": null,
      "metadata": {
        "colab": {
          "base_uri": "https://localhost:8080/"
        },
        "id": "3gAcgtV0QXY8",
        "outputId": "cb7b560f-156a-4091-fd06-2682daa422b6"
      },
      "outputs": [
        {
          "output_type": "stream",
          "name": "stdout",
          "text": [
            "pygame 2.6.1 (SDL 2.28.4, Python 3.11.11)\n",
            "Hello from the pygame community. https://www.pygame.org/contribute.html\n"
          ]
        }
      ],
      "source": [
        "import random\n",
        "import pygame\n",
        "\n",
        "pygame.init()\n",
        "\n",
        "width,height=600,600\n",
        "game_screen = pygame.display.set_mode((width,height))\n",
        "pygame.display.set_caption(\"Grishma Snake Game\")\n",
        "\n",
        "snake_x,snake_y = width/2, height/2\n",
        "change_x,change_y=0,0\n",
        "\n",
        "food_x,food_y=random.randrange(0, width)//10*10,random.randrange(0, height)//10*10\n",
        "\n",
        "\n",
        "clock=pygame.time.Clock()\n",
        "\n",
        "snake_body=[(snake_x,snake_y)]\n",
        "\n",
        "\n",
        "def display_snake_and_food():\n",
        "    global snake_x,snake_y,food_x,food_y\n",
        "    snake_x = (snake_x + change_x)%width\n",
        "    snake_y = (snake_y + change_y)%height\n",
        "\n",
        "    if ((snake_x,snake_y) in snake_body[ 1:]):\n",
        "        print(\"GAME OVER\")\n",
        "        quit()\n",
        "\n",
        "    snake_body.append((snake_x,snake_y))\n",
        "\n",
        "\n",
        "    if (food_x == snake_x and food_y== snake_y):\n",
        "        food_x,food_y=random.randrange(0, width)//10*10,random.randrange(0, height)//10*10\n",
        "    else:\n",
        "        del snake_body[0]\n",
        "\n",
        "    #game_screen.fill((0,0,0))\n",
        "    game_screen.fill( (150, 150, 150))\n",
        "    pygame.draw.circle(game_screen,(0, 0, 128),(food_x,food_y),6)\n",
        "    for (x,y) in snake_body:\n",
        "        #pygame.draw.rect(game_screen,(255,255,105),[x,y,10,10])\n",
        "        pygame.draw.circle(game_screen,(255, 255, 102),(x,y),6)\n",
        "\n",
        "    pygame.display.update()\n",
        "\n",
        "while True:\n",
        "    events=pygame.event.get()\n",
        "    for event in events:\n",
        "        if(event.type == pygame.QUIT):\n",
        "            pygame.QUIT\n",
        "            quit()\n",
        "        if(event.type == pygame.KEYDOWN):\n",
        "            if (event.key==pygame.K_LEFT):\n",
        "                change_x=-10\n",
        "                change_y=0\n",
        "            elif (event.key==pygame.K_RIGHT):\n",
        "                 change_x=10\n",
        "                 change_y=0\n",
        "            elif (event.key==pygame.K_UP):\n",
        "                 change_x=0\n",
        "                 change_y=-10\n",
        "            elif (event.key==pygame.K_DOWN):\n",
        "                 change_x=0\n",
        "                 change_y=10\n",
        "\n",
        "\n",
        "        display_snake_and_food()\n",
        "        clock.tick(15)"
      ]
    }
  ]
}
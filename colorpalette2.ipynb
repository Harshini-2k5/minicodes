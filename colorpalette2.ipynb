{
  "nbformat": 4,
  "nbformat_minor": 0,
  "metadata": {
    "colab": {
      "provenance": [],
      "authorship_tag": "ABX9TyOzO8SRcUC2BkFpOmbSsl/M",
      "include_colab_link": true
    },
    "kernelspec": {
      "name": "python3",
      "display_name": "Python 3"
    },
    "language_info": {
      "name": "python"
    }
  },
  "cells": [
    {
      "cell_type": "markdown",
      "metadata": {
        "id": "view-in-github",
        "colab_type": "text"
      },
      "source": [
        "<a href=\"https://colab.research.google.com/github/Harshini-2k5/minicodes/blob/main/colorpalette2.ipynb\" target=\"_parent\"><img src=\"https://colab.research.google.com/assets/colab-badge.svg\" alt=\"Open In Colab\"/></a>"
      ]
    },
    {
      "cell_type": "code",
      "execution_count": 2,
      "metadata": {
        "colab": {
          "base_uri": "https://localhost:8080/",
          "height": 356
        },
        "id": "7l1Oe5bMYF3G",
        "outputId": "bd512a6b-2a41-42b8-f3e9-796592e33199"
      },
      "outputs": [
        {
          "output_type": "stream",
          "name": "stderr",
          "text": [
            "[nltk_data] Downloading package punkt to /root/nltk_data...\n",
            "[nltk_data]   Package punkt is already up-to-date!\n"
          ]
        },
        {
          "output_type": "error",
          "ename": "KeyboardInterrupt",
          "evalue": "Interrupted by user",
          "traceback": [
            "\u001b[0;31m---------------------------------------------------------------------------\u001b[0m",
            "\u001b[0;31mKeyboardInterrupt\u001b[0m                         Traceback (most recent call last)",
            "\u001b[0;32m<ipython-input-2-00afe36024c1>\u001b[0m in \u001b[0;36m<cell line: 0>\u001b[0;34m()\u001b[0m\n\u001b[1;32m    108\u001b[0m \u001b[0;31m# Run the main function\u001b[0m\u001b[0;34m\u001b[0m\u001b[0;34m\u001b[0m\u001b[0m\n\u001b[1;32m    109\u001b[0m \u001b[0;32mif\u001b[0m \u001b[0m__name__\u001b[0m \u001b[0;34m==\u001b[0m \u001b[0;34m\"__main__\"\u001b[0m\u001b[0;34m:\u001b[0m\u001b[0;34m\u001b[0m\u001b[0;34m\u001b[0m\u001b[0m\n\u001b[0;32m--> 110\u001b[0;31m     \u001b[0mmain\u001b[0m\u001b[0;34m(\u001b[0m\u001b[0;34m)\u001b[0m\u001b[0;34m\u001b[0m\u001b[0;34m\u001b[0m\u001b[0m\n\u001b[0m",
            "\u001b[0;32m<ipython-input-2-00afe36024c1>\u001b[0m in \u001b[0;36mmain\u001b[0;34m()\u001b[0m\n\u001b[1;32m     89\u001b[0m \u001b[0;31m# Main function\u001b[0m\u001b[0;34m\u001b[0m\u001b[0;34m\u001b[0m\u001b[0m\n\u001b[1;32m     90\u001b[0m \u001b[0;32mdef\u001b[0m \u001b[0mmain\u001b[0m\u001b[0;34m(\u001b[0m\u001b[0;34m)\u001b[0m\u001b[0;34m:\u001b[0m\u001b[0;34m\u001b[0m\u001b[0;34m\u001b[0m\u001b[0m\n\u001b[0;32m---> 91\u001b[0;31m     \u001b[0muser_input\u001b[0m \u001b[0;34m=\u001b[0m \u001b[0minput\u001b[0m\u001b[0;34m(\u001b[0m\u001b[0;34m\"Enter a theme or description for your color palette: \"\u001b[0m\u001b[0;34m)\u001b[0m\u001b[0;34m\u001b[0m\u001b[0;34m\u001b[0m\u001b[0m\n\u001b[0m\u001b[1;32m     92\u001b[0m \u001b[0;34m\u001b[0m\u001b[0m\n\u001b[1;32m     93\u001b[0m     \u001b[0;31m# Extract color names using NLP\u001b[0m\u001b[0;34m\u001b[0m\u001b[0;34m\u001b[0m\u001b[0m\n",
            "\u001b[0;32m/usr/local/lib/python3.11/dist-packages/ipykernel/kernelbase.py\u001b[0m in \u001b[0;36mraw_input\u001b[0;34m(self, prompt)\u001b[0m\n\u001b[1;32m   1175\u001b[0m                 \u001b[0;34m\"raw_input was called, but this frontend does not support input requests.\"\u001b[0m\u001b[0;34m\u001b[0m\u001b[0;34m\u001b[0m\u001b[0m\n\u001b[1;32m   1176\u001b[0m             )\n\u001b[0;32m-> 1177\u001b[0;31m         return self._input_request(\n\u001b[0m\u001b[1;32m   1178\u001b[0m             \u001b[0mstr\u001b[0m\u001b[0;34m(\u001b[0m\u001b[0mprompt\u001b[0m\u001b[0;34m)\u001b[0m\u001b[0;34m,\u001b[0m\u001b[0;34m\u001b[0m\u001b[0;34m\u001b[0m\u001b[0m\n\u001b[1;32m   1179\u001b[0m             \u001b[0mself\u001b[0m\u001b[0;34m.\u001b[0m\u001b[0m_parent_ident\u001b[0m\u001b[0;34m[\u001b[0m\u001b[0;34m\"shell\"\u001b[0m\u001b[0;34m]\u001b[0m\u001b[0;34m,\u001b[0m\u001b[0;34m\u001b[0m\u001b[0;34m\u001b[0m\u001b[0m\n",
            "\u001b[0;32m/usr/local/lib/python3.11/dist-packages/ipykernel/kernelbase.py\u001b[0m in \u001b[0;36m_input_request\u001b[0;34m(self, prompt, ident, parent, password)\u001b[0m\n\u001b[1;32m   1217\u001b[0m             \u001b[0;32mexcept\u001b[0m \u001b[0mKeyboardInterrupt\u001b[0m\u001b[0;34m:\u001b[0m\u001b[0;34m\u001b[0m\u001b[0;34m\u001b[0m\u001b[0m\n\u001b[1;32m   1218\u001b[0m                 \u001b[0;31m# re-raise KeyboardInterrupt, to truncate traceback\u001b[0m\u001b[0;34m\u001b[0m\u001b[0;34m\u001b[0m\u001b[0m\n\u001b[0;32m-> 1219\u001b[0;31m                 \u001b[0;32mraise\u001b[0m \u001b[0mKeyboardInterrupt\u001b[0m\u001b[0;34m(\u001b[0m\u001b[0;34m\"Interrupted by user\"\u001b[0m\u001b[0;34m)\u001b[0m \u001b[0;32mfrom\u001b[0m \u001b[0;32mNone\u001b[0m\u001b[0;34m\u001b[0m\u001b[0;34m\u001b[0m\u001b[0m\n\u001b[0m\u001b[1;32m   1220\u001b[0m             \u001b[0;32mexcept\u001b[0m \u001b[0mException\u001b[0m\u001b[0;34m:\u001b[0m\u001b[0;34m\u001b[0m\u001b[0;34m\u001b[0m\u001b[0m\n\u001b[1;32m   1221\u001b[0m                 \u001b[0mself\u001b[0m\u001b[0;34m.\u001b[0m\u001b[0mlog\u001b[0m\u001b[0;34m.\u001b[0m\u001b[0mwarning\u001b[0m\u001b[0;34m(\u001b[0m\u001b[0;34m\"Invalid Message:\"\u001b[0m\u001b[0;34m,\u001b[0m \u001b[0mexc_info\u001b[0m\u001b[0;34m=\u001b[0m\u001b[0;32mTrue\u001b[0m\u001b[0;34m)\u001b[0m\u001b[0;34m\u001b[0m\u001b[0;34m\u001b[0m\u001b[0m\n",
            "\u001b[0;31mKeyboardInterrupt\u001b[0m: Interrupted by user"
          ]
        }
      ],
      "source": [
        "import numpy as np\n",
        "import matplotlib.pyplot as plt\n",
        "import openai\n",
        "import random\n",
        "import nltk\n",
        "from nltk.tokenize import word_tokenize\n",
        "from sklearn.cluster import KMeans\n",
        "import colorsys\n",
        "\n",
        "# Load nltk data\n",
        "nltk.download('punkt')\n",
        "\n",
        "# OpenAI API Key (Replace with your API key)\n",
        "openai.api_key = \"YOUR_OPENAI_API_KEY\"\n",
        "\n",
        "# Function to get color keywords from text input using GPT/NLP\n",
        "def get_color_keywords(text):\n",
        "    prompt = f\"Extract color-related words from this phrase: '{text}'. Provide only color names, no extra text.\"\n",
        "\n",
        "    response = openai.ChatCompletion.create(\n",
        "        model=\"gpt-3.5-turbo\",\n",
        "        messages=[{\"role\": \"user\", \"content\": prompt}]\n",
        "    )\n",
        "\n",
        "    color_words = response[\"choices\"][0][\"message\"][\"content\"].strip()\n",
        "    return color_words.split(\", \")\n",
        "\n",
        "# Function to convert text-based color names to RGB\n",
        "def color_name_to_rgb(color_name):\n",
        "    color_dict = {\n",
        "        \"red\": (255, 0, 0), \"blue\": (0, 0, 255), \"green\": (0, 255, 0),\n",
        "        \"yellow\": (255, 255, 0), \"purple\": (128, 0, 128), \"orange\": (255, 165, 0),\n",
        "        \"pink\": (255, 192, 203), \"brown\": (165, 42, 42), \"grey\": (128, 128, 128),\n",
        "        \"black\": (0, 0, 0), \"white\": (255, 255, 255), \"cyan\": (0, 255, 255),\n",
        "        \"magenta\": (255, 0, 255), \"gold\": (255, 215, 0), \"navy\": (0, 0, 128),\n",
        "        \"teal\": (0, 128, 128), \"indigo\": (75, 0, 130), \"violet\": (238, 130, 238),\n",
        "        \"turquoise\": (64, 224, 208), \"salmon\": (250, 128, 114)\n",
        "    }\n",
        "\n",
        "    return color_dict.get(color_name.lower(), (random.randint(0, 255), random.randint(0, 255), random.randint(0, 255)))\n",
        "\n",
        "# Function to generate harmonized color palettes\n",
        "def generate_harmonized_palettes(base_color):\n",
        "    # Convert RGB to HSL for harmony calculation\n",
        "    r, g, b = base_color\n",
        "    h, l, s = colorsys.rgb_to_hls(r/255, g/255, b/255)\n",
        "\n",
        "    def hls_to_rgb(h, l, s):\n",
        "        return tuple(int(c * 255) for c in colorsys.hls_to_rgb(h, l, s))\n",
        "\n",
        "    # Generate harmonized colors\n",
        "    complementary = hls_to_rgb((h + 0.5) % 1.0, l, s)\n",
        "    analogous1 = hls_to_rgb((h + 0.08) % 1.0, l, s)\n",
        "    analogous2 = hls_to_rgb((h - 0.08) % 1.0, l, s)\n",
        "    triadic1 = hls_to_rgb((h + 0.33) % 1.0, l, s)\n",
        "    triadic2 = hls_to_rgb((h - 0.33) % 1.0, l, s)\n",
        "    split_complementary1 = hls_to_rgb((h + 0.42) % 1.0, l, s)\n",
        "    split_complementary2 = hls_to_rgb((h - 0.42) % 1.0, l, s)\n",
        "    square1 = hls_to_rgb((h + 0.25) % 1.0, l, s)\n",
        "    square2 = hls_to_rgb((h + 0.50) % 1.0, l, s)\n",
        "    square3 = hls_to_rgb((h + 0.75) % 1.0, l, s)\n",
        "\n",
        "    return {\n",
        "        \"Base\": base_color,\n",
        "        \"Complementary\": complementary,\n",
        "        \"Analogous\": [analogous1, analogous2],\n",
        "        \"Triadic\": [triadic1, triadic2],\n",
        "        \"Split Complementary\": [split_complementary1, split_complementary2],\n",
        "        \"Square\": [square1, square2, square3]\n",
        "    }\n",
        "\n",
        "# Function to display color palettes\n",
        "def display_palettes(palettes):\n",
        "    plt.figure(figsize=(10, 5))\n",
        "    num_palettes = len(palettes)\n",
        "\n",
        "    for i, (name, colors) in enumerate(palettes.items()):\n",
        "        if isinstance(colors, tuple):\n",
        "            colors = [colors]\n",
        "\n",
        "        for j, color in enumerate(colors):\n",
        "            plt.fill_between([j, j+1], i, i+1, color=np.array(color)/255)\n",
        "\n",
        "    plt.yticks(range(num_palettes), list(palettes.keys()))\n",
        "    plt.xticks([])\n",
        "    plt.title(\"AI-Generated Harmonized Color Palettes\")\n",
        "    plt.show()\n",
        "\n",
        "# Main function\n",
        "def main():\n",
        "    user_input = input(\"Enter a theme or description for your color palette: \")\n",
        "\n",
        "    # Extract color names using NLP\n",
        "    color_keywords = get_color_keywords(user_input)\n",
        "\n",
        "    if not color_keywords:\n",
        "        print(\"Could not extract any colors, try a different phrase.\")\n",
        "        return\n",
        "\n",
        "    # Convert color names to RGB\n",
        "    base_colors = [color_name_to_rgb(color) for color in color_keywords]\n",
        "\n",
        "    # Generate harmonized palettes for all base colors\n",
        "    for base_color in base_colors:\n",
        "        palettes = generate_harmonized_palettes(base_color)\n",
        "        display_palettes(palettes)\n",
        "\n",
        "# Run the main function\n",
        "if __name__ == \"__main__\":\n",
        "    main()\n"
      ]
    }
  ]
}